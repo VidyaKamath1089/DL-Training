{
  "nbformat": 4,
  "nbformat_minor": 0,
  "metadata": {
    "colab": {
      "name": "MNIST_keras.ipynb",
      "provenance": [],
      "include_colab_link": true
    },
    "kernelspec": {
      "name": "python3",
      "display_name": "Python 3"
    },
    "accelerator": "GPU"
  },
  "cells": [
    {
      "cell_type": "markdown",
      "metadata": {
        "id": "view-in-github",
        "colab_type": "text"
      },
      "source": [
        "<a href=\"https://colab.research.google.com/github/mohanrajmit/DL-Training/blob/master/MNIST_keras.ipynb\" target=\"_parent\"><img src=\"https://colab.research.google.com/assets/colab-badge.svg\" alt=\"Open In Colab\"/></a>"
      ]
    },
    {
      "cell_type": "code",
      "metadata": {
        "id": "mE7zM-zj_3GW",
        "colab_type": "code",
        "colab": {}
      },
      "source": [
        "import numpy as np\n",
        "import pandas as pd\n",
        "import matplotlib.pyplot as plt\n",
        "%matplotlib inline\n",
        "from keras.datasets import mnist\n",
        "from keras.models import Sequential\n",
        "from keras.layers import Dense, Dropout, Activation\n",
        "from keras.utils import np_utils\n",
        "\n",
        "np.random.seed(35)"
      ],
      "execution_count": 1,
      "outputs": []
    },
    {
      "cell_type": "code",
      "metadata": {
        "id": "4R_C1zvA_3Ge",
        "colab_type": "code",
        "colab": {
          "base_uri": "https://localhost:8080/",
          "height": 119
        },
        "outputId": "520553b5-4e85-446d-8472-1600b3fc8208"
      },
      "source": [
        "(X_train, y_train), (X_test, y_test) = mnist.load_data()\n",
        "print(\"X_train original shape\", X_train.shape)\n",
        "print(\"y_train original shape\", y_train.shape)\n",
        "print(\"X_test original shape\", X_test.shape)\n",
        "print(\"y_test original shape\", y_test.shape)"
      ],
      "execution_count": 2,
      "outputs": [
        {
          "output_type": "stream",
          "text": [
            "Downloading data from https://storage.googleapis.com/tensorflow/tf-keras-datasets/mnist.npz\n",
            "11493376/11490434 [==============================] - 0s 0us/step\n",
            "X_train original shape (60000, 28, 28)\n",
            "y_train original shape (60000,)\n",
            "X_test original shape (10000, 28, 28)\n",
            "y_test original shape (10000,)\n"
          ],
          "name": "stdout"
        }
      ]
    },
    {
      "cell_type": "code",
      "metadata": {
        "id": "BgPvv_Mo_3Gl",
        "colab_type": "code",
        "colab": {
          "base_uri": "https://localhost:8080/",
          "height": 298
        },
        "outputId": "4b33defd-4d73-427f-8e3d-9191b01333cd"
      },
      "source": [
        "plt.imshow(X_test[50], cmap='gray')\n",
        "plt.title(y_test[50])"
      ],
      "execution_count": 5,
      "outputs": [
        {
          "output_type": "execute_result",
          "data": {
            "text/plain": [
              "Text(0.5, 1.0, '6')"
            ]
          },
          "metadata": {
            "tags": []
          },
          "execution_count": 5
        },
        {
          "output_type": "display_data",
          "data": {
            "image/png": "[encoded data removed]",
            "text/plain": [
              "<Figure size 432x288 with 1 Axes>"
            ]
          },
          "metadata": {
            "tags": [],
            "needs_background": "light"
          }
        }
      ]
    },
    {
      "cell_type": "code",
      "metadata": {
        "id": "yRXjnJNy_3Gq",
        "colab_type": "code",
        "colab": {}
      },
      "source": [
        "X_train = X_train.reshape(60000,784)\n",
        "X_test = X_test.reshape(10000,784)\n",
        "\n",
        "X_train = X_train.astype('float32')\n",
        "X_test = X_test.astype('float32')\n",
        "\n",
        "X_train/=255\n",
        "X_test/=255 "
      ],
      "execution_count": 6,
      "outputs": []
    },
    {
      "cell_type": "code",
      "metadata": {
        "id": "6jOAvg1P_3Gt",
        "colab_type": "code",
        "colab": {
          "base_uri": "https://localhost:8080/",
          "height": 34
        },
        "outputId": "3c5d6322-085e-4ad1-c1cf-4e4e41013ac5"
      },
      "source": [
        "number_of_classes = 10\n",
        "\n",
        "Y_train = np_utils.to_categorical(y_train, number_of_classes)\n",
        "Y_test = np_utils.to_categorical(y_test, number_of_classes)\n",
        "\n",
        "y_train[10], Y_train[10]"
      ],
      "execution_count": 8,
      "outputs": [
        {
          "output_type": "execute_result",
          "data": {
            "text/plain": [
              "(3, array([0., 0., 0., 1., 0., 0., 0., 0., 0., 0.], dtype=float32))"
            ]
          },
          "metadata": {
            "tags": []
          },
          "execution_count": 8
        }
      ]
    },
    {
      "cell_type": "code",
      "metadata": {
        "id": "BsjgvmUN_3Gv",
        "colab_type": "code",
        "colab": {}
      },
      "source": [
        "model = Sequential()\n",
        "\n",
        "model.add(Dense(512, input_dim=784,activation='relu'))\n",
        "# An \"activation\" is just a non-linear function applied to the output\n",
        "# of the layer above. Here, with a \"rectified linear unit\",\n",
        "# we clamp all values below 0 to 0.\n",
        "#model.add(Activation('relu'))\n",
        "# Dropout helps protect the model from memorizing or \"overfitting\" the training data\n",
        "#model.add(Dropout(0.2))\n",
        "\n",
        "model.add(Dense(512,activation='relu'))\n",
        "#model.add(Activation('relu'))\n",
        "#model.add(Dropout(0.2))\n",
        "\n",
        "model.add(Dense(512,activation='relu'))\n",
        "#model.add(Activation('relu'))\n",
        "#model.add(Dropout(0.2))\n",
        "\n",
        "model.add(Dense(10,activation='softmax'))\n",
        "# This special \"softmax\" activation among other things,\n",
        "# ensures the output is a valid probaility distribution, that is\n",
        "# that its values are all non-negative and sum to 1.\n",
        "#model.add(Activation('softmax'))"
      ],
      "execution_count": 9,
      "outputs": []
    },
    {
      "cell_type": "code",
      "metadata": {
        "id": "UfM4obWE_3Gy",
        "colab_type": "code",
        "colab": {}
      },
      "source": [
        "model.compile(loss='categorical_crossentropy', optimizer='adam', metrics=['accuracy'])"
      ],
      "execution_count": 10,
      "outputs": []
    },
    {
      "cell_type": "code",
      "metadata": {
        "id": "4bgNGsohMEr2",
        "colab_type": "code",
        "colab": {
          "base_uri": "https://localhost:8080/",
          "height": 289
        },
        "outputId": "dc7014b6-59b8-44f6-9768-dd8616785a10"
      },
      "source": [
        "model.summary()"
      ],
      "execution_count": 11,
      "outputs": [
        {
          "output_type": "stream",
          "text": [
            "Model: \"sequential\"\n",
            "_________________________________________________________________\n",
            "Layer (type)                 Output Shape              Param #   \n",
            "=================================================================\n",
            "dense (Dense)                (None, 512)               401920    \n",
            "_________________________________________________________________\n",
            "dense_1 (Dense)              (None, 512)               262656    \n",
            "_________________________________________________________________\n",
            "dense_2 (Dense)              (None, 512)               262656    \n",
            "_________________________________________________________________\n",
            "dense_3 (Dense)              (None, 10)                5130      \n",
            "=================================================================\n",
            "Total params: 932,362\n",
            "Trainable params: 932,362\n",
            "Non-trainable params: 0\n",
            "_________________________________________________________________\n"
          ],
          "name": "stdout"
        }
      ]
    },
    {
      "cell_type": "code",
      "metadata": {
        "id": "3P6VqYcf_3G2",
        "colab_type": "code",
        "colab": {}
      },
      "source": [
        "size = int(len(X_train) * 0.8)\n",
        "\n",
        "train_x, val_x = X_train[:size], X_train[size:]\n",
        "train_y, val_y = Y_train[:size], Y_train[size:]"
      ],
      "execution_count": 12,
      "outputs": []
    },
    {
      "cell_type": "code",
      "metadata": {
        "id": "1IQyPm1g_3G6",
        "colab_type": "code",
        "colab": {
          "base_uri": "https://localhost:8080/",
          "height": 187
        },
        "outputId": "cf3a0683-b2ea-4034-cfd7-ec94d061d211"
      },
      "source": [
        "hist = model.fit(train_x, train_y, batch_size=128, epochs=5, validation_data=(val_x, val_y))"
      ],
      "execution_count": 14,
      "outputs": [
        {
          "output_type": "stream",
          "text": [
            "Epoch 1/5\n",
            "375/375 [==============================] - 1s 4ms/step - loss: 0.2378 - accuracy: 0.9281 - val_loss: 0.1102 - val_accuracy: 0.9659\n",
            "Epoch 2/5\n",
            "375/375 [==============================] - 1s 4ms/step - loss: 0.0904 - accuracy: 0.9719 - val_loss: 0.1110 - val_accuracy: 0.9648\n",
            "Epoch 3/5\n",
            "375/375 [==============================] - 1s 4ms/step - loss: 0.0587 - accuracy: 0.9815 - val_loss: 0.0915 - val_accuracy: 0.9724\n",
            "Epoch 4/5\n",
            "375/375 [==============================] - 1s 4ms/step - loss: 0.0414 - accuracy: 0.9867 - val_loss: 0.0969 - val_accuracy: 0.9743\n",
            "Epoch 5/5\n",
            "375/375 [==============================] - 1s 3ms/step - loss: 0.0342 - accuracy: 0.9884 - val_loss: 0.1019 - val_accuracy: 0.9738\n"
          ],
          "name": "stdout"
        }
      ]
    },
    {
      "cell_type": "code",
      "metadata": {
        "id": "iVMEuC0-_3HB",
        "colab_type": "code",
        "colab": {
          "base_uri": "https://localhost:8080/",
          "height": 68
        },
        "outputId": "96b38135-626d-44cf-f29b-1f07c9247ff3"
      },
      "source": [
        "score = model.evaluate(X_test, Y_test)\n",
        "print()\n",
        "print('Test accuracy: ', score[1])"
      ],
      "execution_count": 15,
      "outputs": [
        {
          "output_type": "stream",
          "text": [
            "313/313 [==============================] - 1s 2ms/step - loss: 0.0930 - accuracy: 0.9748\n",
            "\n",
            "Test accuracy:  0.9747999906539917\n"
          ],
          "name": "stdout"
        }
      ]
    },
    {
      "cell_type": "code",
      "metadata": {
        "id": "elo2tQ9C_3HE",
        "colab_type": "code",
        "colab": {
          "base_uri": "https://localhost:8080/",
          "height": 88
        },
        "outputId": "384cf708-bea1-430f-85a3-ec48f1181acc"
      },
      "source": [
        "predictions = model.predict_classes(X_test)\n",
        "\n",
        "predictions = list(predictions)\n",
        "actuals = list(y_test)\n",
        "\n",
        "sub = pd.DataFrame({'Actual': actuals, 'Predictions': predictions})\n",
        "sub.to_csv('output.csv', index=False)"
      ],
      "execution_count": 16,
      "outputs": [
        {
          "output_type": "stream",
          "text": [
            "WARNING:tensorflow:From <ipython-input-16-d44af34fc381>:1: Sequential.predict_classes (from tensorflow.python.keras.engine.sequential) is deprecated and will be removed after 2021-01-01.\n",
            "Instructions for updating:\n",
            "Please use instead:* `np.argmax(model.predict(x), axis=-1)`,   if your model does multi-class classification   (e.g. if it uses a `softmax` last-layer activation).* `(model.predict(x) > 0.5).astype(\"int32\")`,   if your model does binary classification   (e.g. if it uses a `sigmoid` last-layer activation).\n"
          ],
          "name": "stdout"
        }
      ]
    },
    {
      "cell_type": "code",
      "metadata": {
        "id": "jd888zf-mDjy",
        "colab_type": "code",
        "colab": {}
      },
      "source": [
        ""
      ],
      "execution_count": null,
      "outputs": []
    },
    {
      "cell_type": "code",
      "metadata": {
        "id": "CiSKGn2jVhkK",
        "colab_type": "code",
        "colab": {
          "base_uri": "https://localhost:8080/",
          "height": 233
        },
        "outputId": "16941331-2272-464b-ad54-39166e592d06"
      },
      "source": [
        "plt.figure(figsize=(14,3))\n",
        "plt.subplot(1, 2, 1)\n",
        "plt.suptitle('Optimizer : Adam', fontsize=10)\n",
        "plt.ylabel('Loss', fontsize=16)\n",
        "plt.plot(hist.history['loss'], color='b', label='Training Loss')\n",
        "plt.plot(hist.history['val_loss'], color='r', label='Validation Loss')\n",
        "plt.legend(loc='upper right')\n",
        "\n",
        "plt.subplot(1, 2, 2)\n",
        "plt.ylabel('Accuracy', fontsize=16)\n",
        "plt.plot(hist.history['acc'], color='b', label='Training Accuracy')\n",
        "plt.plot(hist.history['val_acc'], color='r', label='Validation Accuracy')\n",
        "plt.legend(loc='lower right')\n",
        "plt.show()"
      ],
      "execution_count": null,
      "outputs": [
        {
          "output_type": "display_data",
          "data": {
            "image/png": "[encoded data removed]",
            "text/plain": [
              "<Figure size 1008x216 with 2 Axes>"
            ]
          },
          "metadata": {
            "tags": []
          }
        }
      ]
    },
    {
      "cell_type": "code",
      "metadata": {
        "id": "yXNDej7bnSZz",
        "colab_type": "code",
        "colab": {}
      },
      "source": [
        ""
      ],
      "execution_count": null,
      "outputs": []
    }
  ]
}